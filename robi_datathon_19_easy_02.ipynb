{
  "nbformat": 4,
  "nbformat_minor": 0,
  "metadata": {
    "colab": {
      "name": "robi-datathon-19-easy-02",
      "version": "0.3.2",
      "provenance": [],
      "collapsed_sections": [],
      "toc_visible": true
    },
    "kernelspec": {
      "name": "python3",
      "display_name": "Python 3"
    },
    "accelerator": "GPU"
  },
  "cells": [
    {
      "metadata": {
        "id": "_ZYxOI1mGNV1",
        "colab_type": "text"
      },
      "cell_type": "markdown",
      "source": [
        "#Step 01. Install All Dependencies\n",
        "\n",
        "This installs Apache Spark 2.3.3, Java 8, Findspark library that makes it easy for Python to work on the given Big Data."
      ]
    },
    {
      "metadata": {
        "id": "MG5jn29qF91X",
        "colab_type": "code",
        "outputId": "c60eaff8-09cf-4d43-bc2c-7d173773d1be",
        "colab": {
          "base_uri": "https://localhost:8080/",
          "height": 34
        }
      },
      "cell_type": "code",
      "source": [
        "import os\n",
        "#OpenJDK Dependencies for Spark\n",
        "os.system('apt-get install openjdk-8-jdk-headless -qq > /dev/null')\n",
        "\n",
        "#Download Apache Spark\n",
        "os.system('wget -q http://apache.osuosl.org/spark/spark-2.3.3/spark-2.3.3-bin-hadoop2.7.tgz') \n",
        "\n",
        "#Apache Spark and Hadoop Unzip\n",
        "os.system('tar xf spark-2.3.3-bin-hadoop2.7.tgz')\n",
        "\n",
        "#FindSpark Install\n",
        "os.system('pip install -q findspark')"
      ],
      "execution_count": 1,
      "outputs": [
        {
          "output_type": "execute_result",
          "data": {
            "text/plain": [
              "0"
            ]
          },
          "metadata": {
            "tags": []
          },
          "execution_count": 1
        }
      ]
    },
    {
      "metadata": {
        "id": "uE_C9VOSHOKy",
        "colab_type": "text"
      },
      "cell_type": "markdown",
      "source": [
        "# Step 02. Set Environment Variables\n",
        "Set the locations where Spark and Java are installed based on your installation configuration. Double check before you proceed."
      ]
    },
    {
      "metadata": {
        "id": "qrOQoyMmHRPL",
        "colab_type": "code",
        "colab": {}
      },
      "cell_type": "code",
      "source": [
        "import os\n",
        "os.environ[\"JAVA_HOME\"] = \"/usr/lib/jvm/java-8-openjdk-amd64\"\n",
        "os.environ[\"SPARK_HOME\"] = \"/content/spark-2.3.3-bin-hadoop2.7\""
      ],
      "execution_count": 0,
      "outputs": []
    },
    {
      "metadata": {
        "id": "qY1GD4JslzUH",
        "colab_type": "text"
      },
      "cell_type": "markdown",
      "source": [
        "# Step 03. ELT - Load the Data: Mega Cloud Access\n",
        "This is an alternative approach to load datasets from already stored in [**Mega Cloud**](https://mega.nz) cloud repository. You need to install the necessary packages and put the link URL of cloud to load the file from cloud directly."
      ]
    },
    {
      "metadata": {
        "id": "LCqsmO2fl_9Y",
        "colab_type": "code",
        "outputId": "f859013a-0781-475e-9c82-f01e61c9857d",
        "colab": {
          "base_uri": "https://localhost:8080/",
          "height": 34
        }
      },
      "cell_type": "code",
      "source": [
        "import os\n",
        "os.system('git clone https://github.com/jeroenmeulenaar/python3-mega.git')\n",
        "os.chdir('python3-mega')\n",
        "os.system('pip install -r requirements.txt')"
      ],
      "execution_count": 4,
      "outputs": [
        {
          "output_type": "execute_result",
          "data": {
            "text/plain": [
              "0"
            ]
          },
          "metadata": {
            "tags": []
          },
          "execution_count": 4
        }
      ]
    },
    {
      "metadata": {
        "id": "BAYD5dmomHgL",
        "colab_type": "text"
      },
      "cell_type": "markdown",
      "source": [
        "# Step 04. ELT - Load the Data: Read Uploaded Dataset\n",
        "In this approach you can directly load the uploaded dataset downloaded fro Mega Cloud Infrastructure"
      ]
    },
    {
      "metadata": {
        "id": "CCWFVfBsmM03",
        "colab_type": "code",
        "colab": {}
      },
      "cell_type": "code",
      "source": [
        "from mega import Mega\n",
        "os.chdir('../')\n",
        "m_revenue = Mega.from_ephemeral()\n",
        "m_revenue.download_from_url('https://mega.nz/#!Uwo2QKAT!TBB6FxWEA9-2qYdlMKmVhiLtJfVZp-jnxcQzZ-I7Ja0')"
      ],
      "execution_count": 0,
      "outputs": []
    },
    {
      "metadata": {
        "id": "9iRVypEMHiDe",
        "colab_type": "text"
      },
      "cell_type": "markdown",
      "source": [
        "# Step 05. Start a Spark Session\n",
        "This basic code will prepare to start a Spark session."
      ]
    },
    {
      "metadata": {
        "id": "vrW7H-rmHmFm",
        "colab_type": "code",
        "colab": {}
      },
      "cell_type": "code",
      "source": [
        "import findspark\n",
        "findspark.init()\n",
        "from pyspark.sql import SparkSession\n",
        "spark = SparkSession.builder.appName('ml-datathon19-easy02').master(\"local[*]\").getOrCreate()"
      ],
      "execution_count": 0,
      "outputs": []
    },
    {
      "metadata": {
        "id": "vyv5qDPL2RCp",
        "colab_type": "text"
      },
      "cell_type": "markdown",
      "source": [
        "# Step 06. Exploration - Data Schema View\n",
        "Now let's load the DataFrame and see the schema view of the Spark dataset"
      ]
    },
    {
      "metadata": {
        "id": "KPXZWq4X2RMV",
        "colab_type": "code",
        "outputId": "ceb46509-c419-4328-a4c6-de3dcdea1d10",
        "colab": {
          "base_uri": "https://localhost:8080/",
          "height": 153
        }
      },
      "cell_type": "code",
      "source": [
        "df = spark.read.csv('devices.csv', header = True, inferSchema = True)\n",
        "df.printSchema()"
      ],
      "execution_count": 7,
      "outputs": [
        {
          "output_type": "stream",
          "text": [
            "root\n",
            " |-- msisdn: string (nullable = true)\n",
            " |-- imei_tac: string (nullable = true)\n",
            " |-- brand_name: string (nullable = true)\n",
            " |-- model_name: string (nullable = true)\n",
            " |-- os_name: string (nullable = true)\n",
            " |-- os_vendor: string (nullable = true)\n",
            "\n"
          ],
          "name": "stdout"
        }
      ]
    },
    {
      "metadata": {
        "id": "0QIDzJSb-4nh",
        "colab_type": "text"
      },
      "cell_type": "markdown",
      "source": [
        "# Step 07. Exploration - Row Count\n",
        "Now since all the rows are here string/text formatted there is no meaning of running statistical method over the values of these columns. But we need to know the number of rows. We'll grab total number of entries to have an overview of data"
      ]
    },
    {
      "metadata": {
        "id": "gSA4uWpd9-jL",
        "colab_type": "code",
        "outputId": "97151d41-a6ea-4d0c-f597-0a9b67df16f1",
        "colab": {
          "base_uri": "https://localhost:8080/",
          "height": 51
        }
      },
      "cell_type": "code",
      "source": [
        "print(\"Total Rows: \")\n",
        "df.count()"
      ],
      "execution_count": 8,
      "outputs": [
        {
          "output_type": "stream",
          "text": [
            "Total Rows: \n"
          ],
          "name": "stdout"
        },
        {
          "output_type": "execute_result",
          "data": {
            "text/plain": [
              "20463280"
            ]
          },
          "metadata": {
            "tags": []
          },
          "execution_count": 8
        }
      ]
    },
    {
      "metadata": {
        "id": "LJWm-tno9gq0",
        "colab_type": "text"
      },
      "cell_type": "markdown",
      "source": [
        "# Step 08. Exploration - Total Unique Row Count\n",
        "Now we'll grab total number of unique entries or unique row count of the Spark dataset to have an overview of duplicate data"
      ]
    },
    {
      "metadata": {
        "id": "2qF1rbIN7XTo",
        "colab_type": "code",
        "outputId": "ea1d4059-98b5-4a00-9845-4aaaaf0d5d6a",
        "colab": {
          "base_uri": "https://localhost:8080/",
          "height": 51
        }
      },
      "cell_type": "code",
      "source": [
        "print(\"Unique Rows: \")\n",
        "df.distinct().count()"
      ],
      "execution_count": 9,
      "outputs": [
        {
          "output_type": "stream",
          "text": [
            "Unique Rows: \n"
          ],
          "name": "stdout"
        },
        {
          "output_type": "execute_result",
          "data": {
            "text/plain": [
              "20463280"
            ]
          },
          "metadata": {
            "tags": []
          },
          "execution_count": 9
        }
      ]
    },
    {
      "metadata": {
        "id": "Qiqc1vi609iy",
        "colab_type": "text"
      },
      "cell_type": "markdown",
      "source": [
        "# Step 09. Exploration - Reviewing the NULL values in each column\n",
        "Since the total row count and unique row count are same, it means there is no duplicate rows in the table. Now we'll grab the count of NULL values per column to check whether any missing values is there or not."
      ]
    },
    {
      "metadata": {
        "id": "S198lgo6zcFn",
        "colab_type": "code",
        "outputId": "45c286de-8187-4f31-84c4-b2b15a9a8a16",
        "colab": {
          "base_uri": "https://localhost:8080/",
          "height": 119
        }
      },
      "cell_type": "code",
      "source": [
        "import pyspark.sql.functions as F\n",
        "df_agg = df.agg(*[F.count(F.when(F.isnull(c), c)).alias(c) for c in df.columns])\n",
        "df_agg.show()"
      ],
      "execution_count": 10,
      "outputs": [
        {
          "output_type": "stream",
          "text": [
            "+------+--------+----------+----------+-------+---------+\n",
            "|msisdn|imei_tac|brand_name|model_name|os_name|os_vendor|\n",
            "+------+--------+----------+----------+-------+---------+\n",
            "|     0|       0|    256304|    256304|5685204|  5540476|\n",
            "+------+--------+----------+----------+-------+---------+\n",
            "\n"
          ],
          "name": "stdout"
        }
      ]
    },
    {
      "metadata": {
        "id": "Rh7ZYyVkW5Dh",
        "colab_type": "text"
      },
      "cell_type": "markdown",
      "source": [
        "# Step 10. Exploration - Filtering the NULL values rows of Model entries\n",
        "Roughly `1.25%` data are `NULL` values from the table. Since this is neglitible compare to the original row count, we will now filter the dataset to remove all `NULL` values of `model_name` column."
      ]
    },
    {
      "metadata": {
        "id": "8gnNrnykQqhI",
        "colab_type": "code",
        "colab": {}
      },
      "cell_type": "code",
      "source": [
        "df2 = df.filter(df.model_name. isNotNull())"
      ],
      "execution_count": 0,
      "outputs": []
    },
    {
      "metadata": {
        "id": "PZfgybnr95iA",
        "colab_type": "text"
      },
      "cell_type": "markdown",
      "source": [
        "# Step 11. Implementation - Run the SQL Command\n",
        "Now since we got the idea that there is no NULL values and we optimises the dual SIM enabled mobile set rows, we can straightly go for executing SQL command to get the desired outcome. As a part of optimisation, we can drop of the column week_number as this is not relevant to this problem."
      ]
    },
    {
      "metadata": {
        "id": "EA037xxSLEfF",
        "colab_type": "code",
        "colab": {
          "base_uri": "https://localhost:8080/",
          "height": 204
        },
        "outputId": "1c4357d6-9593-4ba9-d925-86595e1d4f41"
      },
      "cell_type": "code",
      "source": [
        "from pyspark.sql.functions import desc\n",
        "Easy02 = df2.groupBy('model_name').agg({'model_name':'count'}).sort(desc(\"count(model_name)\"))\n",
        "Easy02 = Easy02.withColumnRenamed(\"count(model_name)\", \"Total Bought\")\n",
        "Easy02 = Easy02.withColumnRenamed(\"model_name\", \"Model\")\n",
        "Easy02.show(n=5, truncate=False)"
      ],
      "execution_count": 15,
      "outputs": [
        {
          "output_type": "stream",
          "text": [
            "+-------------------------------------+------------+\n",
            "|Model                                |Total Bought|\n",
            "+-------------------------------------+------------+\n",
            "|GURU MUSIC II (SM-B310E)             |406457      |\n",
            "|GALAXY J2 (SM-J200H)                 |225834      |\n",
            "|GALAXY GRAND PRIME DUOS (SM-G532F DS)|220640      |\n",
            "|105, 1050 (RM-908)                   |194412      |\n",
            "|SYMPHONY B12, D115                   |191265      |\n",
            "+-------------------------------------+------------+\n",
            "only showing top 5 rows\n",
            "\n"
          ],
          "name": "stdout"
        }
      ]
    }
  ]
}